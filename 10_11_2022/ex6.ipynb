{
 "cells": [
  {
   "cell_type": "code",
   "execution_count": 1,
   "id": "d00b155e",
   "metadata": {},
   "outputs": [
    {
     "name": "stdout",
     "output_type": "stream",
     "text": [
      "ID:1,Title:programming in python\n",
      "ID:2,Title:programming in cpp\n"
     ]
    }
   ],
   "source": [
    "# connecting to database using python\n",
    "# for mysql - pymysql\n",
    "# for postgresql - psycopg2\n",
    "# for oracle - cx_Oracle\n",
    "\n",
    "import psycopg2\n",
    "import psycopg2.extras\n",
    "import sys\n",
    "# connection object\n",
    "# cursor object\n",
    "# execute queries using cursor object\n",
    "\n",
    "# connect - takes parameters - host,user,password, dbname\n",
    "\n",
    "conn = psycopg2.connect(host='localhost',user='pydbuser1',password='password',dbname='pydbtest1')\n",
    "\n",
    "if not conn:\n",
    "    sys.exit()\n",
    "    \n",
    "# create a cursor object\n",
    "\n",
    "#cur = conn.cursor()\n",
    "\n",
    "# fetch records as sequence of dictionaries \n",
    "cur = conn.cursor(cursor_factory=psycopg2.extras.DictCursor)\n",
    "\n",
    "\n",
    "try:\n",
    "    cur.execute(\"select * from books\")\n",
    "except Exception as err:\n",
    "    print(\"Error executing the query\", err)\n",
    "else:\n",
    "    records = cur.fetchall()  # cur.fetchone() - fetches one record\n",
    "    for row in records:\n",
    "        print(f\"ID:{row['bookid']},Title:{row['booktitle']}\")\n",
    "finally:\n",
    "    conn.close()"
   ]
  },
  {
   "cell_type": "code",
   "execution_count": null,
   "id": "c5dfdb99",
   "metadata": {},
   "outputs": [],
   "source": []
  }
 ],
 "metadata": {
  "kernelspec": {
   "display_name": "Python 3 (ipykernel)",
   "language": "python",
   "name": "python3"
  },
  "language_info": {
   "codemirror_mode": {
    "name": "ipython",
    "version": 3
   },
   "file_extension": ".py",
   "mimetype": "text/x-python",
   "name": "python",
   "nbconvert_exporter": "python",
   "pygments_lexer": "ipython3",
   "version": "3.7.3"
  }
 },
 "nbformat": 4,
 "nbformat_minor": 5
}
