{
 "cells": [
  {
   "cell_type": "code",
   "execution_count": 4,
   "id": "3dfd8d0c",
   "metadata": {},
   "outputs": [
    {
     "name": "stdout",
     "output_type": "stream",
     "text": [
      "Enter bookid2\n",
      "Enter booktitleprogramming in cpp\n",
      "record created\n"
     ]
    }
   ],
   "source": [
    "# connecting to database using python\n",
    "# for mysql - pymysql\n",
    "# for postgresql - psycopg2\n",
    "# for oracle - cx_Oracle\n",
    "\n",
    "import psycopg2\n",
    "import sys\n",
    "\n",
    "# connection object\n",
    "# cursor object\n",
    "# execute queries using cursor object\n",
    "\n",
    "# connect - takes parameters - host,user,password, dbname\n",
    "\n",
    "bookid = int(input(\"Enter bookid\"))\n",
    "booktitle = input(\"Enter booktitle\")\n",
    "\n",
    "conn = psycopg2.connect(host='localhost',user='pydbuser1',password='password',dbname='pydbtest1')\n",
    "\n",
    "if not conn:\n",
    "    sys.exit()\n",
    "    \n",
    "# create a cursor object\n",
    "\n",
    "cur = conn.cursor()\n",
    "\n",
    "try:\n",
    "    cur.execute(f\"insert into books values({bookid},'{booktitle}')\")\n",
    "    conn.commit()\n",
    "except psycopg2.OperationalError as err:\n",
    "    print(\"Error executing the query\", err)\n",
    "else:\n",
    "    print(\"record created\")\n",
    "finally:\n",
    "    conn.close()"
   ]
  },
  {
   "cell_type": "code",
   "execution_count": null,
   "id": "eed35153",
   "metadata": {},
   "outputs": [],
   "source": []
  }
 ],
 "metadata": {
  "kernelspec": {
   "display_name": "Python 3 (ipykernel)",
   "language": "python",
   "name": "python3"
  },
  "language_info": {
   "codemirror_mode": {
    "name": "ipython",
    "version": 3
   },
   "file_extension": ".py",
   "mimetype": "text/x-python",
   "name": "python",
   "nbconvert_exporter": "python",
   "pygments_lexer": "ipython3",
   "version": "3.7.3"
  }
 },
 "nbformat": 4,
 "nbformat_minor": 5
}
