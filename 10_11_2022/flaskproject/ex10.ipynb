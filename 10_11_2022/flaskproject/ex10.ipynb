{
 "cells": [
  {
   "cell_type": "code",
   "execution_count": null,
   "id": "c5cecf54",
   "metadata": {},
   "outputs": [],
   "source": [
    "# flask - widely used micro services framework\n",
    "# install flask\n",
    "# from jupyter - !pip install flask\n",
    "# from cmd - python (or) py -m pip install flask\n",
    "\n",
    "from flask import Flask, render_template, request\n",
    "\n",
    "app = Flask(__name__)\n",
    "\n",
    "@app.route('/') # / - http://localhost:5000\n",
    "def home():\n",
    "    #msg = \"this is a test message\"\n",
    "    #return render_template(\"index.html\",message=msg)\n",
    "    list_of_names = ['joe','raj','rahul','tom']\n",
    "    return render_template(\"index.html\",names=list_of_names)\n",
    "    #return \"<h1>Welcome to Flask App</h1>\"\n",
    "\n",
    "@app.route('/anotherurl',methods=['GET','POST'])\n",
    "def urlfunction():\n",
    "    if request.method == \"POST\":\n",
    "        print(request.form)\n",
    "    return \"<h1>From another url</h1>\"\n",
    "\n",
    "if __name__ == '__main__':\n",
    "    app.run()"
   ]
  },
  {
   "cell_type": "code",
   "execution_count": null,
   "id": "be33c18e",
   "metadata": {},
   "outputs": [],
   "source": []
  }
 ],
 "metadata": {
  "kernelspec": {
   "display_name": "Python 3 (ipykernel)",
   "language": "python",
   "name": "python3"
  },
  "language_info": {
   "codemirror_mode": {
    "name": "ipython",
    "version": 3
   },
   "file_extension": ".py",
   "mimetype": "text/x-python",
   "name": "python",
   "nbconvert_exporter": "python",
   "pygments_lexer": "ipython3",
   "version": "3.7.3"
  }
 },
 "nbformat": 4,
 "nbformat_minor": 5
}
