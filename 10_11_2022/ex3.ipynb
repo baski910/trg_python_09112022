{
 "cells": [
  {
   "cell_type": "code",
   "execution_count": 2,
   "id": "556e71d8",
   "metadata": {},
   "outputs": [
    {
     "name": "stdout",
     "output_type": "stream",
     "text": [
      "table created\n"
     ]
    }
   ],
   "source": [
    "# connecting to database using python\n",
    "# for mysql - pymysql\n",
    "# for postgresql - psycopg2\n",
    "# for oracle - cx_Oracle\n",
    "\n",
    "import psycopg2\n",
    "import sys\n",
    "# connection object\n",
    "# cursor object\n",
    "# execute queries using cursor object\n",
    "\n",
    "# connect - takes parameters - host,user,password, dbname\n",
    "\n",
    "conn = psycopg2.connect(host='localhost',user='pydbuser1',password='password',dbname='pydbtest1')\n",
    "\n",
    "if not conn:\n",
    "    sys.exit()\n",
    "    \n",
    "# create a cursor object\n",
    "\n",
    "cur = conn.cursor()\n",
    "\n",
    "try:\n",
    "    cur.execute(\"create table books(bookid int, booktitle varchar(50))\")\n",
    "    conn.commit()\n",
    "except psycopg2.errors:\n",
    "    print(\"Error executing the query\")\n",
    "else:\n",
    "    print(\"table created\")\n",
    "finally:\n",
    "    conn.close()"
   ]
  },
  {
   "cell_type": "code",
   "execution_count": null,
   "id": "fee442aa",
   "metadata": {},
   "outputs": [],
   "source": []
  }
 ],
 "metadata": {
  "kernelspec": {
   "display_name": "Python 3 (ipykernel)",
   "language": "python",
   "name": "python3"
  },
  "language_info": {
   "codemirror_mode": {
    "name": "ipython",
    "version": 3
   },
   "file_extension": ".py",
   "mimetype": "text/x-python",
   "name": "python",
   "nbconvert_exporter": "python",
   "pygments_lexer": "ipython3",
   "version": "3.7.3"
  }
 },
 "nbformat": 4,
 "nbformat_minor": 5
}
