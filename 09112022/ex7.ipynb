{
 "cells": [
  {
   "cell_type": "code",
   "execution_count": 2,
   "id": "1e81c76d",
   "metadata": {},
   "outputs": [
    {
     "name": "stdout",
     "output_type": "stream",
     "text": [
      "1\n",
      "2\n",
      "3\n"
     ]
    }
   ],
   "source": [
    "# generator - a function working as iterable. uses 'yield' keyword\n",
    "\n",
    "def numsequence():\n",
    "    yield 1\n",
    "    yield 2\n",
    "    yield 3\n",
    "    #return 1\n",
    "    #return 2\n",
    "    #return 3\n",
    "\n",
    "for num in numsequence():\n",
    "    print(num)"
   ]
  },
  {
   "cell_type": "code",
   "execution_count": 9,
   "id": "80e6c1b0",
   "metadata": {},
   "outputs": [
    {
     "name": "stdout",
     "output_type": "stream",
     "text": [
      "0\t1\t2\t3\t4\t5\t6\t7\t8\t9\t10\t11\t12\t13\t14\t15\t16\t17\t18\t19\t\n",
      "\n",
      "0\t1\t2\t3\t4\t5\t6\t7\t8\t9\t10\t11\t12\t13\t14\t15\t16\t17\t18\t19\t\n",
      "\n",
      "190\n",
      "190\n"
     ]
    }
   ],
   "source": [
    "# find the sum of n numbers\n",
    "\n",
    "def find_sum(n): # with 'yield' handling large dataset is possible\n",
    "    nums = 0\n",
    "    while nums<n:\n",
    "        yield nums\n",
    "        nums += 1\n",
    "        \n",
    "for num in find_sum(20):\n",
    "    print(num,end=\"\\t\")\n",
    "\n",
    "print(\"\\n\")\n",
    "numbers = [x for x in range(20)]\n",
    "\n",
    "for num in numbers:\n",
    "    print(num,end=\"\\t\")\n",
    "    \n",
    "# sum - built-in function takes iterable and returns total all elements\n",
    "print(\"\\n\")\n",
    "print(sum(numbers))\n",
    "print(sum(find_sum(20)))"
   ]
  },
  {
   "cell_type": "code",
   "execution_count": null,
   "id": "8210dc21",
   "metadata": {},
   "outputs": [],
   "source": []
  }
 ],
 "metadata": {
  "kernelspec": {
   "display_name": "Python 3 (ipykernel)",
   "language": "python",
   "name": "python3"
  },
  "language_info": {
   "codemirror_mode": {
    "name": "ipython",
    "version": 3
   },
   "file_extension": ".py",
   "mimetype": "text/x-python",
   "name": "python",
   "nbconvert_exporter": "python",
   "pygments_lexer": "ipython3",
   "version": "3.7.3"
  }
 },
 "nbformat": 4,
 "nbformat_minor": 5
}
