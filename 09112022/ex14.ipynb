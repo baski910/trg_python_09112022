{
 "cells": [
  {
   "cell_type": "code",
   "execution_count": 3,
   "id": "d8e831b4",
   "metadata": {},
   "outputs": [
    {
     "name": "stdout",
     "output_type": "stream",
     "text": [
      "thread 1 is going to sleep for 1 seconds\n",
      "thread 2 is going to sleep for 2 seconds\n",
      "thread 3 is going to sleep for 3 seconds\n",
      "thread 4 is going to sleep for 4 seconds\n",
      "thread 5 is going to sleep for 5 seconds\n",
      "thread 6 is going to sleep for 6 seconds\n",
      "thread 7 is going to sleep for 7 seconds\n",
      "thread 8 is going to sleep for 8 seconds\n",
      "thread 9 is going to sleep for 9 seconds\n",
      "thread 10 is going to sleep for 10 seconds\n",
      "[<_MainThread(MainThread, started 140301107840832)>, <Thread(IOPub, started daemon 140301011601152)>, <Heartbeat(Heartbeat, started daemon 140301003208448)>, <Thread(Thread-3, started daemon 140300978030336)>, <Thread(Thread-4, started daemon 140300969637632)>, <ControlThread(Control, started daemon 140300961244928)>, <HistorySavingThread(IPythonHistorySavingThread, started 140300475430656)>, <ParentPollerUnix(Thread-2, started daemon 140300467037952)>, <Thread(Thread-25, started 140299938559744)>, <Thread(Thread-26, started 140300425074432)>, <Thread(Thread-27, started 140300433467136)>, <Thread(Thread-28, started 140300441859840)>, <Thread(Thread-29, started 140300458645248)>, <Thread(Thread-30, started 140300450252544)>, <Thread(Thread-31, started 140299930167040)>, <Thread(Thread-32, started 140299921774336)>, <Thread(Thread-33, started 140299913381632)>, <Thread(Thread-34, started 140299904988928)>]\n",
      "thread 1 is completed\n",
      "thread 2 is completed\n",
      "thread 3 is completed\n",
      "thread 4 is completed\n",
      "thread 5 is completed\n",
      "thread 6 is completed\n",
      "thread 7 is completed\n",
      "thread 8 is completed\n",
      "thread 9 is completed\n",
      "thread 10 is completed\n",
      "Done...!!!\n"
     ]
    }
   ],
   "source": [
    "# threading is the module used for creating threds\n",
    "\n",
    "import threading\n",
    "import time\n",
    "\n",
    "def sleeper(n):\n",
    "    print(\"thread {} is going to sleep for {} seconds\".format(n,n))\n",
    "    time.sleep(n)\n",
    "    print(\"thread {} is completed\".format(n))\n",
    "\n",
    "    \n",
    "threads = [] # list to add all threads created\n",
    "\n",
    "for i in range(1,11):\n",
    "    t = threading.Thread(target=sleeper,args=(i,))\n",
    "    threads.append(t)\n",
    "    \n",
    "for t in threads:\n",
    "    t.start()\n",
    "    \n",
    "print(threading.enumerate()) # returns a list of active threads\n",
    "\n",
    "# join ensures the main thread blocks till completion of all threads\n",
    "for t in threads:\n",
    "    t.join()\n",
    "\n",
    "    \n",
    "print(\"Done...!!!\")"
   ]
  },
  {
   "cell_type": "code",
   "execution_count": null,
   "id": "a52ffaba",
   "metadata": {},
   "outputs": [],
   "source": []
  }
 ],
 "metadata": {
  "kernelspec": {
   "display_name": "Python 3 (ipykernel)",
   "language": "python",
   "name": "python3"
  },
  "language_info": {
   "codemirror_mode": {
    "name": "ipython",
    "version": 3
   },
   "file_extension": ".py",
   "mimetype": "text/x-python",
   "name": "python",
   "nbconvert_exporter": "python",
   "pygments_lexer": "ipython3",
   "version": "3.7.3"
  }
 },
 "nbformat": 4,
 "nbformat_minor": 5
}
