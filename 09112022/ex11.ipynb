{
 "cells": [
  {
   "cell_type": "code",
   "execution_count": 2,
   "id": "03e9a681",
   "metadata": {},
   "outputs": [
    {
     "name": "stdout",
     "output_type": "stream",
     "text": [
      "<div><s>welcome bob to python</s></div>\n"
     ]
    }
   ],
   "source": [
    "\"\"\"Example for decorator using @ symbol\"\"\"\n",
    "\n",
    "def d_decorator(d):\n",
    "    def inner_wrapper(name):\n",
    "        return \"<div>{}</div>\".format(d(name))\n",
    "    return inner_wrapper\n",
    "\n",
    "\n",
    "# code for decorator\n",
    "# in the function s_decorator the argument 'd' is considered as reference of function to be improved\n",
    "# and the argument passed to inner_wrapper should be same as that of argument passed to function to be improved\n",
    "def s_decorator(d):\n",
    "    def inner_wrapper(name):\n",
    "        return \"<s>{}</s>\".format(d(name))\n",
    "    return inner_wrapper\n",
    "\n",
    "@d_decorator\n",
    "@s_decorator # display = s_decorator(display)\n",
    "def display(name):\n",
    "    return \"welcome {} to python\".format(name)\n",
    "\n",
    "print(display('bob')) # produces an output - welcome bob to python\n",
    "# to improve the output of the above function something like below\n",
    "# <s>welcome bob to python</s>"
   ]
  },
  {
   "cell_type": "code",
   "execution_count": null,
   "id": "fb2041ee",
   "metadata": {},
   "outputs": [],
   "source": []
  }
 ],
 "metadata": {
  "kernelspec": {
   "display_name": "Python 3 (ipykernel)",
   "language": "python",
   "name": "python3"
  },
  "language_info": {
   "codemirror_mode": {
    "name": "ipython",
    "version": 3
   },
   "file_extension": ".py",
   "mimetype": "text/x-python",
   "name": "python",
   "nbconvert_exporter": "python",
   "pygments_lexer": "ipython3",
   "version": "3.7.3"
  }
 },
 "nbformat": 4,
 "nbformat_minor": 5
}
