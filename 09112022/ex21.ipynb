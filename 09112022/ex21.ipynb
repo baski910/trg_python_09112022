{
 "cells": [
  {
   "cell_type": "code",
   "execution_count": 2,
   "id": "781c0773",
   "metadata": {},
   "outputs": [
    {
     "name": "stdout",
     "output_type": "stream",
     "text": [
      "  name  age department\n",
      "0  raj   21         IT\n",
      "1  bob   20        CSE\n",
      "2  tom   21        EEE\n",
      "3  pat   20       ELEC\n",
      "4  joe   21        ECE\n",
      "  department departmentname\n",
      "0        CSE       Computer\n",
      "1       ELEC     Electrical\n",
      "2        EEE    Electronics\n",
      "3       CHEM       Chemical\n",
      "4         IT    Information\n"
     ]
    }
   ],
   "source": [
    "# merge dataframes\n",
    "import pandas as pd\n",
    "\n",
    "df1 = pd.read_excel('names.xlsx',sheet_name='Sheet1')\n",
    "\n",
    "df2 = pd.read_excel('names.xlsx',sheet_name='Sheet2')\n",
    "\n",
    "print(df1)\n",
    "\n",
    "print(df2)"
   ]
  },
  {
   "cell_type": "code",
   "execution_count": 3,
   "id": "8cf49b62",
   "metadata": {},
   "outputs": [
    {
     "name": "stdout",
     "output_type": "stream",
     "text": [
      "  name  age department departmentname\n",
      "0  raj   21         IT    Information\n",
      "1  bob   20        CSE       Computer\n",
      "2  tom   21        EEE    Electronics\n",
      "3  pat   20       ELEC     Electrical\n"
     ]
    }
   ],
   "source": [
    "# merge df1 and df2 using common column 'department'\n",
    "\n",
    "df3 = pd.merge(df1,df2,on='department')\n",
    "\n",
    "print(df3)"
   ]
  },
  {
   "cell_type": "code",
   "execution_count": 4,
   "id": "882ea75e",
   "metadata": {},
   "outputs": [
    {
     "name": "stdout",
     "output_type": "stream",
     "text": [
      "  name  age department departmentname\n",
      "0  raj   21         IT    Information\n",
      "1  bob   20        CSE       Computer\n",
      "2  tom   21        EEE    Electronics\n",
      "3  pat   20       ELEC     Electrical\n",
      "4  joe   21        ECE            NaN\n"
     ]
    }
   ],
   "source": [
    "# merge df1 and df2 using common column 'department' and left join\n",
    "\n",
    "df3 = pd.merge(df1,df2,on='department',how='left')\n",
    "\n",
    "print(df3)"
   ]
  },
  {
   "cell_type": "code",
   "execution_count": 5,
   "id": "5afad216",
   "metadata": {},
   "outputs": [
    {
     "name": "stdout",
     "output_type": "stream",
     "text": [
      "  name   age department departmentname\n",
      "0  bob  20.0        CSE       Computer\n",
      "1  pat  20.0       ELEC     Electrical\n",
      "2  tom  21.0        EEE    Electronics\n",
      "3  NaN   NaN       CHEM       Chemical\n",
      "4  raj  21.0         IT    Information\n"
     ]
    }
   ],
   "source": [
    "# merge df1 and df2 using common column 'department' and right join\n",
    "\n",
    "df3 = pd.merge(df1,df2,on='department',how='right')\n",
    "\n",
    "print(df3)"
   ]
  },
  {
   "cell_type": "code",
   "execution_count": null,
   "id": "d4df1a72",
   "metadata": {},
   "outputs": [],
   "source": [
    "# merge df1 and df2 using common column 'department' and right join\n",
    "\n",
    "df3 = pd.merge(df1,df2,on='department',how='right')\n",
    "\n",
    "print(df3)"
   ]
  }
 ],
 "metadata": {
  "kernelspec": {
   "display_name": "Python 3 (ipykernel)",
   "language": "python",
   "name": "python3"
  },
  "language_info": {
   "codemirror_mode": {
    "name": "ipython",
    "version": 3
   },
   "file_extension": ".py",
   "mimetype": "text/x-python",
   "name": "python",
   "nbconvert_exporter": "python",
   "pygments_lexer": "ipython3",
   "version": "3.7.3"
  }
 },
 "nbformat": 4,
 "nbformat_minor": 5
}
