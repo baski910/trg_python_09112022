{
 "cells": [
  {
   "cell_type": "code",
   "execution_count": 2,
   "id": "7e0b33e6",
   "metadata": {},
   "outputs": [
    {
     "name": "stdout",
     "output_type": "stream",
     "text": [
      "Entering thread Thread-1\n",
      "Thread-1:Wed Nov  9 14:49:53 2022\n",
      "Entering thread Thread-2\n",
      "Thread-1:Wed Nov  9 14:49:54 2022\n",
      "Thread-1:Wed Nov  9 14:49:55 2022\n",
      "Thread-1:Wed Nov  9 14:49:56 2022\n",
      "Thread-1:Wed Nov  9 14:49:57 2022\n",
      "Exiting thread Thread-1Thread-2:Wed Nov  9 14:49:58 2022\n",
      "\n",
      "Thread-2:Wed Nov  9 14:50:00 2022\n",
      "Thread-2:Wed Nov  9 14:50:02 2022\n",
      "Thread-2:Wed Nov  9 14:50:04 2022\n",
      "Thread-2:Wed Nov  9 14:50:06 2022\n",
      "Exiting thread Thread-2\n",
      "Done...!!!\n"
     ]
    }
   ],
   "source": [
    "##########################################################\n",
    "# custom thread class\n",
    "# thread takes threading.Thread as base class\n",
    "# custom thread class override 'run' method of parent class\n",
    "############################################################\n",
    "\n",
    "import threading\n",
    "import time\n",
    "\n",
    "class CustomThread(threading.Thread):\n",
    "    def __init__(self,id,name,timegap):\n",
    "        threading.Thread.__init__(self)\n",
    "        self.id = id\n",
    "        self.name = name\n",
    "        self.timegap = timegap\n",
    "    \n",
    "    def run(self):\n",
    "        print(\"Entering thread {}\".format(self.name))\n",
    "        threadLock.acquire()\n",
    "        print_time(self.name,self.timegap,5)\n",
    "        threadLock.release()\n",
    "        print(\"Exiting thread {}\".format(self.name))\n",
    "############ end of class definition#############\n",
    "\n",
    "def print_time(name,delay,counter):\n",
    "    while counter:\n",
    "        print(\"{}:{}\".format(name,time.asctime(time.localtime(time.time()))))\n",
    "        time.sleep(delay)\n",
    "        counter -= 1\n",
    "\n",
    "threadLock = threading.Lock()\n",
    "t1 = CustomThread(1,'Thread-1',1)\n",
    "\n",
    "t2 = CustomThread(2,'Thread-2',2)\n",
    "\n",
    "\n",
    "t1.start()\n",
    "\n",
    "t2.start()\n",
    "\n",
    "t1.join()\n",
    "\n",
    "t2.join()\n",
    "\n",
    "\n",
    "print(\"Done...!!!\")"
   ]
  },
  {
   "cell_type": "code",
   "execution_count": null,
   "id": "a51aae92",
   "metadata": {},
   "outputs": [],
   "source": []
  }
 ],
 "metadata": {
  "kernelspec": {
   "display_name": "Python 3 (ipykernel)",
   "language": "python",
   "name": "python3"
  },
  "language_info": {
   "codemirror_mode": {
    "name": "ipython",
    "version": 3
   },
   "file_extension": ".py",
   "mimetype": "text/x-python",
   "name": "python",
   "nbconvert_exporter": "python",
   "pygments_lexer": "ipython3",
   "version": "3.7.3"
  }
 },
 "nbformat": 4,
 "nbformat_minor": 5
}
