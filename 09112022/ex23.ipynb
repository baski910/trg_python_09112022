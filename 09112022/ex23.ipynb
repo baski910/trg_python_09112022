{
 "cells": [
  {
   "cell_type": "code",
   "execution_count": 3,
   "id": "0aad5483",
   "metadata": {},
   "outputs": [
    {
     "name": "stdout",
     "output_type": "stream",
     "text": [
      "   names  age  marks grade\n",
      "0    pat   21     86     B\n",
      "1    raj   20     91     A\n",
      "2  rahul   20     65     C\n",
      "3    joe   20     75     C\n",
      "4    bob   21     58     D\n",
      "5    tom   20     78     B\n",
      "6    sam   21     81     B\n"
     ]
    }
   ],
   "source": [
    "# classification using 'cut' function\n",
    "# cut arguments - series, bin = [range], labels=[]\n",
    "\n",
    "import pandas as pd\n",
    "\n",
    "data = {\n",
    "    'names': ['pat','raj','rahul','joe','bob','tom','sam'],\n",
    "    'age': [21,20,20,20,21,20,21],\n",
    "    'marks': [86,91,65,75,58,78,81]\n",
    "}\n",
    "\n",
    "df = pd.DataFrame(data)\n",
    "\n",
    "#print(df)\n",
    "\n",
    "df['grade'] = pd.cut(df['marks'],bins=[50,60,75,90,100], labels=['D','C','B','A'])\n",
    "\n",
    "print(df)"
   ]
  },
  {
   "cell_type": "code",
   "execution_count": null,
   "id": "ca153ef3",
   "metadata": {},
   "outputs": [],
   "source": []
  }
 ],
 "metadata": {
  "kernelspec": {
   "display_name": "Python 3 (ipykernel)",
   "language": "python",
   "name": "python3"
  },
  "language_info": {
   "codemirror_mode": {
    "name": "ipython",
    "version": 3
   },
   "file_extension": ".py",
   "mimetype": "text/x-python",
   "name": "python",
   "nbconvert_exporter": "python",
   "pygments_lexer": "ipython3",
   "version": "3.7.3"
  }
 },
 "nbformat": 4,
 "nbformat_minor": 5
}
