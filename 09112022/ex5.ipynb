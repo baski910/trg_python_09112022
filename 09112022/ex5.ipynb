{
 "cells": [
  {
   "cell_type": "code",
   "execution_count": 2,
   "id": "1a5f63df",
   "metadata": {},
   "outputs": [
    {
     "name": "stdout",
     "output_type": "stream",
     "text": [
      "from example1\n",
      "from example2\n"
     ]
    }
   ],
   "source": [
    "# importing a package\n",
    "import mypackage1\n",
    "\n",
    "mypackage1.f()\n",
    "mypackage1.g()"
   ]
  },
  {
   "cell_type": "code",
   "execution_count": null,
   "id": "95e5f541",
   "metadata": {},
   "outputs": [],
   "source": []
  }
 ],
 "metadata": {
  "kernelspec": {
   "display_name": "Python 3 (ipykernel)",
   "language": "python",
   "name": "python3"
  },
  "language_info": {
   "codemirror_mode": {
    "name": "ipython",
    "version": 3
   },
   "file_extension": ".py",
   "mimetype": "text/x-python",
   "name": "python",
   "nbconvert_exporter": "python",
   "pygments_lexer": "ipython3",
   "version": "3.7.3"
  }
 },
 "nbformat": 4,
 "nbformat_minor": 5
}
