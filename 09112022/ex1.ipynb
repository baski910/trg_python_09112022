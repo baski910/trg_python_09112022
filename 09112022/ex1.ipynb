{
 "cells": [
  {
   "cell_type": "code",
   "execution_count": 1,
   "id": "c819fc40",
   "metadata": {},
   "outputs": [],
   "source": [
    "# python need to be installed \n",
    "# cmd\n",
    "# python (or) py -m pip install jupyter"
   ]
  },
  {
   "cell_type": "code",
   "execution_count": 2,
   "id": "9d962da0",
   "metadata": {},
   "outputs": [],
   "source": [
    "# int string tuple list dictionary\n",
    "# t1 = (10,20,30,40,'hello','world')\n",
    "# list1 = ['hello',20,400,'abcdef']\n",
    "# d1 = {'os': 'windows','db': 'sql servere'}\n",
    "\n",
    "# a = 20 + 5\n",
    "# immutable and mutable\n",
    "# immutable - reference gets modified"
   ]
  },
  {
   "cell_type": "code",
   "execution_count": 4,
   "id": "7541c023",
   "metadata": {},
   "outputs": [
    {
     "name": "stdout",
     "output_type": "stream",
     "text": [
      "reference of a: 9079616\n",
      "20\n",
      "reference of a: 9079776\n",
      "25\n"
     ]
    }
   ],
   "source": [
    "a = 20\n",
    "\n",
    "print(\"reference of a:\",id(a))\n",
    "print(a)\n",
    "\n",
    "a += 5\n",
    "\n",
    "print(\"reference of a:\",id(a))\n",
    "print(a)"
   ]
  },
  {
   "cell_type": "code",
   "execution_count": 5,
   "id": "b63b1e4b",
   "metadata": {},
   "outputs": [
    {
     "name": "stdout",
     "output_type": "stream",
     "text": [
      "reference of list1: 140512137123464\n",
      "[10, 20, 30, 40]\n",
      "reference of list1: 140512137123464\n",
      "[10, 20, 50, 40]\n"
     ]
    }
   ],
   "source": [
    "list1 = [10,20,30,40]\n",
    "\n",
    "print(\"reference of list1:\",id(list1))\n",
    "print(list1)\n",
    "\n",
    "list1[2] = 50 \n",
    "\n",
    "print(\"reference of list1:\",id(list1))\n",
    "print(list1)"
   ]
  },
  {
   "cell_type": "code",
   "execution_count": 6,
   "id": "977b9b57",
   "metadata": {},
   "outputs": [
    {
     "name": "stdout",
     "output_type": "stream",
     "text": [
      "not included\n",
      "helloworld\n",
      "this line is part of the function\n",
      "helloworld\n",
      "this line is part of the function\n"
     ]
    }
   ],
   "source": [
    "def sayHello():\n",
    "    print(\"helloworld\")\n",
    "    print(\"this line is part of the function\")\n",
    "print(\"not included\")\n",
    "\n",
    "sayHello()\n",
    "sayHello()"
   ]
  },
  {
   "cell_type": "code",
   "execution_count": null,
   "id": "42cf5751",
   "metadata": {},
   "outputs": [],
   "source": []
  }
 ],
 "metadata": {
  "kernelspec": {
   "display_name": "Python 3 (ipykernel)",
   "language": "python",
   "name": "python3"
  },
  "language_info": {
   "codemirror_mode": {
    "name": "ipython",
    "version": 3
   },
   "file_extension": ".py",
   "mimetype": "text/x-python",
   "name": "python",
   "nbconvert_exporter": "python",
   "pygments_lexer": "ipython3",
   "version": "3.7.3"
  }
 },
 "nbformat": 4,
 "nbformat_minor": 5
}
