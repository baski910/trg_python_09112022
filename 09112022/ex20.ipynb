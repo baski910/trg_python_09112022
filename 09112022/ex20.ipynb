{
 "cells": [
  {
   "cell_type": "code",
   "execution_count": 1,
   "id": "f5d68372",
   "metadata": {},
   "outputs": [
    {
     "name": "stdout",
     "output_type": "stream",
     "text": [
      "    id first_name   last_name             company_name            address  \\\n",
      "0  1.0    Aleshia  Tomkiewicz  Alan D Rosenburg Cpa Pc       14 Taylor St   \n",
      "1  2.0       Evan   Zigomalas       Cap Gemini America        5 Binney St   \n",
      "2  3.0     France     Andrade      Elliott, John W Esq       8 Moor Place   \n",
      "3  4.0    Ulysses   Mcwalters           Mcmahan, Ben L      505 Exeter Rd   \n",
      "4  5.0     Tyisha      Veness           Champagne Room  5396 Forth Street   \n",
      "\n",
      "                             city           county    postal        phone1  \\\n",
      "0               St. Stephens Ward             Kent   CT2 7PP  01835-703597   \n",
      "1                      Abbey Ward  Buckinghamshire  HP11 2AX  01937-864715   \n",
      "2  East Southbourne and Tuckton W      Bournemouth   BH6 3BE  01347-368222   \n",
      "3              Hawerby cum Beesby     Lincolnshire  DN36 5RP  01912-771311   \n",
      "4      Greets Green and Lyng Ward    West Midlands   B70 9DT  01547-429341   \n",
      "\n",
      "         phone2                       email  \\\n",
      "0  01944-369967     atomkiewicz@hotmail.com   \n",
      "1  01714-737668    evan.zigomalas@gmail.com   \n",
      "2  01935-821636  france.andrade@hotmail.com   \n",
      "3  01302-601380         ulysses@hotmail.com   \n",
      "4  01290-367248   tyisha.veness@hotmail.com   \n",
      "\n",
      "                                    web    in  out  \n",
      "0  http://www.alandrosenburgcpapc.co.uk   9:3  NaN  \n",
      "1     http://www.capgeminiamerica.co.uk  9:13  NaN  \n",
      "2      http://www.elliottjohnwesq.co.uk  9:46  NaN  \n",
      "3          http://www.mcmahanbenl.co.uk   9:4  NaN  \n",
      "4        http://www.champagneroom.co.uk   8:1  NaN  \n"
     ]
    }
   ],
   "source": [
    "# reading csv file\n",
    "\n",
    "import pandas as pd\n",
    "\n",
    "df = pd.read_csv('uk-500.csv') # read_csv to convert csv file to pandas dataframe\n",
    "\n",
    "# print first 5 rows \n",
    "print(df.head())"
   ]
  },
  {
   "cell_type": "code",
   "execution_count": 2,
   "id": "9bb2b45c",
   "metadata": {},
   "outputs": [
    {
     "name": "stdout",
     "output_type": "stream",
     "text": [
      "Index(['id', 'first_name', 'last_name', 'company_name', 'address', 'city',\n",
      "       'county', 'postal', 'phone1', 'phone2', 'email', 'web', 'in', 'out'],\n",
      "      dtype='object')\n"
     ]
    }
   ],
   "source": [
    "print(df.columns) # returns the csv headers"
   ]
  },
  {
   "cell_type": "code",
   "execution_count": 3,
   "id": "a0583ef2",
   "metadata": {},
   "outputs": [],
   "source": [
    "df.to_excel('test.xlsx', index=False)"
   ]
  },
  {
   "cell_type": "code",
   "execution_count": 4,
   "id": "9b2d806b",
   "metadata": {},
   "outputs": [
    {
     "name": "stdout",
     "output_type": "stream",
     "text": [
      "id                                               1.0\n",
      "first_name                                   Aleshia\n",
      "last_name                                 Tomkiewicz\n",
      "company_name                 Alan D Rosenburg Cpa Pc\n",
      "address                                 14 Taylor St\n",
      "city                               St. Stephens Ward\n",
      "county                                          Kent\n",
      "postal                                       CT2 7PP\n",
      "phone1                                  01835-703597\n",
      "phone2                                  01944-369967\n",
      "email                        atomkiewicz@hotmail.com\n",
      "web             http://www.alandrosenburgcpapc.co.uk\n",
      "in                                               9:3\n",
      "out                                              NaN\n",
      "Name: 0, dtype: object\n"
     ]
    }
   ],
   "source": [
    "# dataframe function - iloc and loc\n",
    "# iloc - filter using row and column index\n",
    "# loc - filter using row values\n",
    "\n",
    "# get the first row\n",
    "print(df.iloc[0])"
   ]
  },
  {
   "cell_type": "code",
   "execution_count": 5,
   "id": "e89bcf45",
   "metadata": {},
   "outputs": [
    {
     "name": "stdout",
     "output_type": "stream",
     "text": [
      "id                                                      NaN\n",
      "first_name                                               Mi\n",
      "last_name                                            Richan\n",
      "company_name                 Nelson Wright Haworth Golf Crs\n",
      "address                                     6 Norwood Grove\n",
      "city                                      Tanworth-in-Arden\n",
      "county                                         Warwickshire\n",
      "postal                                              B94 5RZ\n",
      "phone1                                         01451-785624\n",
      "phone2                                         01202-738406\n",
      "email                                        mi@hotmail.com\n",
      "web             http://www.nelsonwrighthaworthgolfcrs.co.uk\n",
      "in                                                     9:36\n",
      "out                                                     NaN\n",
      "Name: 499, dtype: object\n"
     ]
    }
   ],
   "source": [
    "# get the last row\n",
    "print(df.iloc[-1])"
   ]
  },
  {
   "cell_type": "code",
   "execution_count": 6,
   "id": "52d2da78",
   "metadata": {},
   "outputs": [
    {
     "name": "stdout",
     "output_type": "stream",
     "text": [
      "      id   first_name  last_name                   company_name  \\\n",
      "10  11.0     Fernanda     Writer           K & R Associates Inc   \n",
      "11  12.0  Charlesetta        Erm               Cain, John M Esq   \n",
      "12  13.0     Corrinne      Jaret              Sound Vision Corp   \n",
      "13  14.0       Niesha      Bruch         Rowley/hansell Petetin   \n",
      "14  15.0       Rueben  Gastellum  Industrial Engineering Assocs   \n",
      "\n",
      "               address                            city                 county  \\\n",
      "10  620 Northampton St                      Wilmington                   Kent   \n",
      "11         5 Hygeia St            Loundsley Green Ward             Derbyshire   \n",
      "12      2150 Morley St                        Dee Ward  Dumfries and Galloway   \n",
      "13        24 Bolton St  Broxburn, Uphall and Winchburg           West Lothian   \n",
      "14        4 Forrest St               Weston-Super-Mare         North Somerset   \n",
      "\n",
      "      postal        phone1        phone2                             email  \\\n",
      "10   DA2 7PP  01630-202053  01687-879391             fernanda@writer.co.uk   \n",
      "11   S40 4LY  01276-816806  01517-624517         charlesetta_erm@gmail.com   \n",
      "12   DG8 7DE  01625-932209  01642-322954          corrinne_jaret@gmail.com   \n",
      "13  EH52 5TL  01874-856950  01342-793603            niesha.bruch@yahoo.com   \n",
      "14  BS23 3HG  01976-755279  01956-535511  rueben_gastellum@gastellum.co.uk   \n",
      "\n",
      "                                             web    in  out  \n",
      "10              http://www.krassociatesinc.co.uk  8:18  NaN  \n",
      "11                 http://www.cainjohnmesq.co.uk  8:50  NaN  \n",
      "12              http://www.soundvisioncorp.co.uk  9:55  NaN  \n",
      "13         http://www.rowleyhansellpetetin.co.uk  9:37  NaN  \n",
      "14  http://www.industrialengineeringassocs.co.uk  8:38  NaN  \n"
     ]
    }
   ],
   "source": [
    "# select range of rows\n",
    "print(df.iloc[10:15])"
   ]
  },
  {
   "cell_type": "code",
   "execution_count": 7,
   "id": "d1b7d187",
   "metadata": {},
   "outputs": [
    {
     "name": "stdout",
     "output_type": "stream",
     "text": [
      "      id first_name   last_name                    company_name  \\\n",
      "23  24.0    Tamesha      Veigel             Wilhelm, James E Jr   \n",
      "56  57.0       Dong  Kopczynski              Kennedy Scales Inc   \n",
      "65  66.0    Lindsay       Yadao         Lutz, Christopher T Esq   \n",
      "78  79.0     Anisha     Shulick  Dale Yoder Clu Life Hlth & Bus   \n",
      "90  91.0       Mira    Alpheaus             East County Process   \n",
      "\n",
      "               address                 city          county    postal  \\\n",
      "23  2200 Nelson St #58              Newport   Isle of Wight  PO30 5AL   \n",
      "56      7 Cheapside #9              St. Ive        Cornwall  PL14 5PA   \n",
      "65       7 Jolliffe St           Middlewich        Cheshire  CW10 9GB   \n",
      "78          3 Alder St      Eaton Park Ward  Stoke-on-Trent   ST2 9AW   \n",
      "90   51 St Anne St #12  Stratfield Mortimer       Berkshire   RG7 3RA   \n",
      "\n",
      "          phone1        phone2                         email  \\\n",
      "23  01217-342071  01280-786847          tveigel@veigel.co.uk   \n",
      "56  01770-129032  01639-518104  dkopczynski@kopczynski.co.uk   \n",
      "65  01947-566661  01481-295251     lindsay_yadao@yadao.co.uk   \n",
      "78  01780-704167  01268-233798            ashulick@yahoo.com   \n",
      "90  01241-273991  01381-836777       mira.alpheaus@yahoo.com   \n",
      "\n",
      "                                         web    in  out  \n",
      "23          http://www.wilhelmjamesejr.co.uk  8:10  NaN  \n",
      "56         http://www.kennedyscalesinc.co.uk   8:8  NaN  \n",
      "65      http://www.lutzchristophertesq.co.uk  8:13  NaN  \n",
      "78  http://www.daleyoderclulifehlthbus.co.uk  8:18  NaN  \n",
      "90        http://www.eastcountyprocess.co.uk  8:27  NaN  \n"
     ]
    }
   ],
   "source": [
    "# get selective rows\n",
    "print(df.iloc[[23,56,65,78,90]])"
   ]
  },
  {
   "cell_type": "code",
   "execution_count": 8,
   "id": "c1eae791",
   "metadata": {},
   "outputs": [
    {
     "name": "stdout",
     "output_type": "stream",
     "text": [
      "    first_name   last_name                    company_name\n",
      "0      Aleshia  Tomkiewicz         Alan D Rosenburg Cpa Pc\n",
      "1         Evan   Zigomalas              Cap Gemini America\n",
      "2       France     Andrade             Elliott, John W Esq\n",
      "3      Ulysses   Mcwalters                  Mcmahan, Ben L\n",
      "4       Tyisha      Veness                  Champagne Room\n",
      "..         ...         ...                             ...\n",
      "495      Avery        Veit      Plaza Gourmet Delicatessen\n",
      "496       Reid     Euresti            Fitzgerald, Edward J\n",
      "497  Charlette    Brenning              Furey & Associates\n",
      "498  Celestina       Keeny        Bfg Federal Credit Union\n",
      "499         Mi      Richan  Nelson Wright Haworth Golf Crs\n",
      "\n",
      "[500 rows x 3 columns]\n"
     ]
    }
   ],
   "source": [
    "# filtering using column index\n",
    "print(df.iloc[:,1:4])"
   ]
  },
  {
   "cell_type": "code",
   "execution_count": 9,
   "id": "69c6c419",
   "metadata": {},
   "outputs": [
    {
     "name": "stdout",
     "output_type": "stream",
     "text": [
      "       id   first_name  last_name                  company_name  \\\n",
      "1     2.0         Evan  Zigomalas            Cap Gemini America   \n",
      "11   12.0  Charlesetta        Erm              Cain, John M Esq   \n",
      "12   13.0     Corrinne      Jaret             Sound Vision Corp   \n",
      "29   30.0        Karma     Quarto               J C S Machinery   \n",
      "32   33.0        Milly    Savidge     Bridgeway Plan For Health   \n",
      "..    ...          ...        ...                           ...   \n",
      "472   NaN          Mel   Picciuto                Avante Limited   \n",
      "480   NaN      Tijuana   Machalek        Schwartz, Thomas E Esq   \n",
      "483   NaN      Derrick    Dolloff       Proto Tek Manufacturing   \n",
      "494   NaN       Alesia      Katie  Nelsons Trmt & Pest Cntrl Co   \n",
      "498   NaN    Celestina      Keeny      Bfg Federal Credit Union   \n",
      "\n",
      "                    address                  city                  county  \\\n",
      "1               5 Binney St            Abbey Ward         Buckinghamshire   \n",
      "11              5 Hygeia St  Loundsley Green Ward              Derbyshire   \n",
      "12           2150 Morley St              Dee Ward   Dumfries and Galloway   \n",
      "29             1 Birkett St        Shard End Ward           West Midlands   \n",
      "32    129 Alexander Pope St          Franche Ward  Hereford and Worcester   \n",
      "..                      ...                   ...                     ...   \n",
      "472          8598 Rumney Rd          Hylands Ward                   Essex   \n",
      "480  1149 Highfield Rd #996    Fareham South Ward               Hampshire   \n",
      "483         236 Blantyre Rd          Everton Ward              Merseyside   \n",
      "494         4 Covent Garden        Farnworth Ward      Greater Manchester   \n",
      "498             9 Milton St      Consett North ED           County Durham   \n",
      "\n",
      "       postal        phone1        phone2                       email  \\\n",
      "1    HP11 2AX  01937-864715  01714-737668    evan.zigomalas@gmail.com   \n",
      "11    S40 4LY  01276-816806  01517-624517   charlesetta_erm@gmail.com   \n",
      "12    DG8 7DE  01625-932209  01642-322954    corrinne_jaret@gmail.com   \n",
      "29    B33 0NH  01857-864722  01307-667811           kquarto@gmail.com   \n",
      "32   DY11 9BW  01702-725589  01421-132652             milly@gmail.com   \n",
      "..        ...           ...           ...                         ...   \n",
      "472  RM11 1QL  01885-270480  01268-443299      mel.picciuto@gmail.com   \n",
      "480  PO14 9JJ  01242-532395  01336-686264  tijuana.machalek@gmail.com   \n",
      "483    L6 2EN  01982-734773  01619-554437   derrick_dolloff@gmail.com   \n",
      "494   BL4 7AF  01333-436799  01240-614527      alesia_katie@gmail.com   \n",
      "498   DH8 5LP  01877-379681  01600-463475   celestina_keeny@gmail.com   \n",
      "\n",
      "                                         web    in  out  \n",
      "1          http://www.capgeminiamerica.co.uk  9:13  NaN  \n",
      "11             http://www.cainjohnmesq.co.uk  8:50  NaN  \n",
      "12          http://www.soundvisioncorp.co.uk  9:55  NaN  \n",
      "29             http://www.jcsmachinery.co.uk  8:49  NaN  \n",
      "32   http://www.bridgewayplanforhealth.co.uk  9:24  NaN  \n",
      "..                                       ...   ...  ...  \n",
      "472           http://www.avantelimited.co.uk  8:39  NaN  \n",
      "480      http://www.schwartzthomaseesq.co.uk  8:59  NaN  \n",
      "483   http://www.prototekmanufacturing.co.uk   8:9  NaN  \n",
      "494  http://www.nelsonstrmtpestcntrlco.co.uk   9:4  NaN  \n",
      "498   http://www.bfgfederalcreditunion.co.uk  9:21  NaN  \n",
      "\n",
      "[130 rows x 14 columns]\n"
     ]
    }
   ],
   "source": [
    "# filtering using row values\n",
    "print(df.loc[df['email'].str.endswith('gmail.com')])"
   ]
  },
  {
   "cell_type": "code",
   "execution_count": 12,
   "id": "5581fc35",
   "metadata": {},
   "outputs": [
    {
     "name": "stdout",
     "output_type": "stream",
     "text": [
      "    id first_name last_name         company_name       address  \\\n",
      "2  3.0     France   Andrade  Elliott, John W Esq  8 Moor Place   \n",
      "\n",
      "                             city       county   postal        phone1  \\\n",
      "2  East Southbourne and Tuckton W  Bournemouth  BH6 3BE  01347-368222   \n",
      "\n",
      "         phone2                       email                               web  \\\n",
      "2  01935-821636  france.andrade@hotmail.com  http://www.elliottjohnwesq.co.uk   \n",
      "\n",
      "     in  out  \n",
      "2  9:46  NaN  \n",
      "    id first_name last_name         company_name       address  \\\n",
      "2  3.0     France    Andrew  Elliott, John W Esq  8 Moor Place   \n",
      "\n",
      "                             city       county   postal        phone1  \\\n",
      "2  East Southbourne and Tuckton W  Bournemouth  BH6 3BE  01347-368222   \n",
      "\n",
      "         phone2                       email                               web  \\\n",
      "2  01935-821636  france.andrade@hotmail.com  http://www.elliottjohnwesq.co.uk   \n",
      "\n",
      "     in  out  \n",
      "2  9:46  NaN  \n"
     ]
    }
   ],
   "source": [
    "print(df.loc[df['first_name']=='France'])\n",
    "\n",
    "df.loc[df['first_name']=='France','last_name']='Andrew'\n",
    "\n",
    "print(df.loc[df['first_name']=='France'])"
   ]
  },
  {
   "cell_type": "code",
   "execution_count": 14,
   "id": "f3a3160f",
   "metadata": {},
   "outputs": [],
   "source": [
    "df.to_json('df.json')"
   ]
  },
  {
   "cell_type": "code",
   "execution_count": null,
   "id": "849f855b",
   "metadata": {},
   "outputs": [],
   "source": []
  }
 ],
 "metadata": {
  "kernelspec": {
   "display_name": "Python 3 (ipykernel)",
   "language": "python",
   "name": "python3"
  },
  "language_info": {
   "codemirror_mode": {
    "name": "ipython",
    "version": 3
   },
   "file_extension": ".py",
   "mimetype": "text/x-python",
   "name": "python",
   "nbconvert_exporter": "python",
   "pygments_lexer": "ipython3",
   "version": "3.7.3"
  }
 },
 "nbformat": 4,
 "nbformat_minor": 5
}
