{
 "cells": [
  {
   "cell_type": "code",
   "execution_count": 1,
   "id": "71ffc426",
   "metadata": {},
   "outputs": [
    {
     "name": "stdout",
     "output_type": "stream",
     "text": [
      "thread 10 is going to sleep for 10 secondsDone...!!!\n",
      "\n",
      "thread 10 is completed\n"
     ]
    }
   ],
   "source": [
    "# threading is the module used for creating threds\n",
    "\n",
    "import threading\n",
    "import time\n",
    "\n",
    "def sleeper(n):\n",
    "    print(\"thread {} is going to sleep for {} seconds\".format(n,n))\n",
    "    time.sleep(n)\n",
    "    print(\"thread {} is completed\".format(n))\n",
    "\n",
    "# creating a thread\n",
    "t1 = threading.Thread(target=sleeper, args=(10,))\n",
    "\n",
    "# start the the thread\n",
    "t1.start()\n",
    "\n",
    "print(\"Done...!!!\")\n"
   ]
  },
  {
   "cell_type": "code",
   "execution_count": null,
   "id": "ce478765",
   "metadata": {},
   "outputs": [],
   "source": []
  }
 ],
 "metadata": {
  "kernelspec": {
   "display_name": "Python 3 (ipykernel)",
   "language": "python",
   "name": "python3"
  },
  "language_info": {
   "codemirror_mode": {
    "name": "ipython",
    "version": 3
   },
   "file_extension": ".py",
   "mimetype": "text/x-python",
   "name": "python",
   "nbconvert_exporter": "python",
   "pygments_lexer": "ipython3",
   "version": "3.7.3"
  }
 },
 "nbformat": 4,
 "nbformat_minor": 5
}
