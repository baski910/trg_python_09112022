{
 "cells": [
  {
   "cell_type": "code",
   "execution_count": 1,
   "id": "284883ee",
   "metadata": {},
   "outputs": [],
   "source": [
    "# numpy is mainly used for creating n-dimensional array\n",
    "# from jupyter - !pip install numpy\n",
    "# from cmd - python (or) py -m pip install numpy"
   ]
  },
  {
   "cell_type": "code",
   "execution_count": 2,
   "id": "b69c9d18",
   "metadata": {},
   "outputs": [
    {
     "name": "stdout",
     "output_type": "stream",
     "text": [
      "<class 'list'>\n",
      "<class 'numpy.ndarray'>\n"
     ]
    }
   ],
   "source": [
    "import numpy as np\n",
    "\n",
    "a = [12,17,21,33]\n",
    "\n",
    "print(type(a))\n",
    "\n",
    "arr1 = np.array(a)\n",
    "\n",
    "print(type(arr1))"
   ]
  },
  {
   "cell_type": "code",
   "execution_count": 3,
   "id": "975d9757",
   "metadata": {},
   "outputs": [
    {
     "name": "stdout",
     "output_type": "stream",
     "text": [
      "<class 'list'>\n",
      "<class 'numpy.ndarray'>\n"
     ]
    }
   ],
   "source": [
    "b = [14,28,42,19]\n",
    "\n",
    "print(type(b))\n",
    "\n",
    "arr2 = np.array(b)\n",
    "\n",
    "print(type(arr2))"
   ]
  },
  {
   "cell_type": "code",
   "execution_count": 4,
   "id": "e78fce43",
   "metadata": {},
   "outputs": [
    {
     "name": "stdout",
     "output_type": "stream",
     "text": [
      "[12, 17, 21, 33, 14, 28, 42, 19]\n",
      "[26 45 63 52]\n"
     ]
    }
   ],
   "source": [
    "print(a+b) \n",
    "\n",
    "print(arr1 + arr2)"
   ]
  },
  {
   "cell_type": "code",
   "execution_count": 9,
   "id": "6df62526",
   "metadata": {},
   "outputs": [
    {
     "name": "stdout",
     "output_type": "stream",
     "text": [
      "(4,)\n",
      "(2, 3, 4)\n"
     ]
    }
   ],
   "source": [
    "# shape attribute of numpy arrays\n",
    "\n",
    "arr2 = np.array([14,28,42,19])\n",
    "\n",
    "\n",
    "print(arr2.shape)\n",
    "\n",
    "arr2 = np.array([\n",
    "    [\n",
    "     [14,28,42,19],\n",
    "     [12,17,21,33],\n",
    "     [12,17,21,33],\n",
    "],\n",
    "    [\n",
    "     [14,28,42,19],\n",
    "     [12,17,21,33],\n",
    "     [12,17,21,33],\n",
    "]\n",
    "]\n",
    ")\n",
    "\n",
    "\n",
    "print(arr2.shape)"
   ]
  },
  {
   "cell_type": "code",
   "execution_count": 10,
   "id": "04f316c3",
   "metadata": {},
   "outputs": [
    {
     "name": "stdout",
     "output_type": "stream",
     "text": [
      "[0.         0.02040816 0.04081633 0.06122449 0.08163265 0.10204082\n",
      " 0.12244898 0.14285714 0.16326531 0.18367347 0.20408163 0.2244898\n",
      " 0.24489796 0.26530612 0.28571429 0.30612245 0.32653061 0.34693878\n",
      " 0.36734694 0.3877551  0.40816327 0.42857143 0.44897959 0.46938776\n",
      " 0.48979592 0.51020408 0.53061224 0.55102041 0.57142857 0.59183673\n",
      " 0.6122449  0.63265306 0.65306122 0.67346939 0.69387755 0.71428571\n",
      " 0.73469388 0.75510204 0.7755102  0.79591837 0.81632653 0.83673469\n",
      " 0.85714286 0.87755102 0.89795918 0.91836735 0.93877551 0.95918367\n",
      " 0.97959184 1.        ]\n"
     ]
    }
   ],
   "source": [
    "# generate large number between small interval with equal distance\n",
    "\n",
    "arr3 = np.linspace(0,1,100)\n",
    "\n",
    "print(arr3)"
   ]
  },
  {
   "cell_type": "code",
   "execution_count": null,
   "id": "62696d10",
   "metadata": {},
   "outputs": [],
   "source": []
  }
 ],
 "metadata": {
  "kernelspec": {
   "display_name": "Python 3 (ipykernel)",
   "language": "python",
   "name": "python3"
  },
  "language_info": {
   "codemirror_mode": {
    "name": "ipython",
    "version": 3
   },
   "file_extension": ".py",
   "mimetype": "text/x-python",
   "name": "python",
   "nbconvert_exporter": "python",
   "pygments_lexer": "ipython3",
   "version": "3.7.3"
  }
 },
 "nbformat": 4,
 "nbformat_minor": 5
}
