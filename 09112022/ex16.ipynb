{
 "cells": [
  {
   "cell_type": "code",
   "execution_count": 3,
   "id": "35496abd",
   "metadata": {},
   "outputs": [
    {
     "name": "stdout",
     "output_type": "stream",
     "text": [
      "Entering thread Thread-1\n",
      "Entering thread Thread-2\n",
      "The temperature at bangalore is 27.80 celsius\n",
      "Exiting thread Thread-1\n",
      "The temperature at chennai is 30.99 celsius\n",
      "Exiting thread Thread-2\n",
      "Completed getting temperatures...\n"
     ]
    }
   ],
   "source": [
    "##########################################################\n",
    "# custom thread class\n",
    "# thread takes threading.Thread as base class\n",
    "# custom thread class override 'run' method of parent class\n",
    "# openweathermap.org\n",
    "############################################################\n",
    "\n",
    "import threading\n",
    "import time\n",
    "import requests\n",
    "import json\n",
    "\n",
    "\n",
    "class CustomThread(threading.Thread):\n",
    "    API_KEY = ''\n",
    "    def __init__(self,id,name,cityname,timegap):\n",
    "        threading.Thread.__init__(self)\n",
    "        self.id = id\n",
    "        self.name = name\n",
    "        self.cityname = cityname\n",
    "        self.timegap = timegap\n",
    "    \n",
    "    def run(self):\n",
    "        print(\"Entering thread {}\".format(self.name))\n",
    "        threadLock.acquire()\n",
    "        print_time(self.name,self.cityname,CustomThread.API_KEY,self.timegap)\n",
    "        threadLock.release()\n",
    "        print(\"Exiting thread {}\".format(self.name))\n",
    "############ end of class definition#############\n",
    "\n",
    "def print_time(name,cityname,APIKEY,delay):\n",
    "    r = requests.get(\"https://api.openweathermap.org/data/2.5/weather?q=\"+cityname+\"&appid=\"+APIKEY)\n",
    "    time.sleep(delay)\n",
    "    if r.status_code==200:\n",
    "        d1 = json.loads(r.text)\n",
    "        #print(d1)\n",
    "        city_temp = d1.get('main').get('temp')-273.15\n",
    "        print(\"The temperature at %s is %.2f celsius\" %(cityname,city_temp))\n",
    "    else:\n",
    "        print(\"problem in getting weather information\")\n",
    "        \n",
    "        \n",
    "threadLock = threading.Lock()\n",
    "t1 = CustomThread(1,'Thread-1','bangalore',1)\n",
    "t2 = CustomThread(2,'Thread-2','chennai',2)\n",
    "\n",
    "t1.start()\n",
    "\n",
    "t2.start()\n",
    "\n",
    "t1.join()\n",
    "\n",
    "t2.join()\n",
    "\n",
    "print(\"Completed getting temperatures...\")"
   ]
  },
  {
   "cell_type": "code",
   "execution_count": null,
   "id": "db349839",
   "metadata": {},
   "outputs": [],
   "source": []
  }
 ],
 "metadata": {
  "kernelspec": {
   "display_name": "Python 3 (ipykernel)",
   "language": "python",
   "name": "python3"
  },
  "language_info": {
   "codemirror_mode": {
    "name": "ipython",
    "version": 3
   },
   "file_extension": ".py",
   "mimetype": "text/x-python",
   "name": "python",
   "nbconvert_exporter": "python",
   "pygments_lexer": "ipython3",
   "version": "3.7.3"
  }
 },
 "nbformat": 4,
 "nbformat_minor": 5
}
