{
 "cells": [
  {
   "cell_type": "code",
   "execution_count": 3,
   "id": "67efd393",
   "metadata": {},
   "outputs": [
    {
     "name": "stdout",
     "output_type": "stream",
     "text": [
      "64\n",
      "<function square at 0x7fc6f03aa510>\n",
      "<function square at 0x7fc6f03aa510>\n",
      "169\n"
     ]
    }
   ],
   "source": [
    "# in python function name returns reference\n",
    "# reference can be assigned to a variable and function can be called through variable\n",
    "\n",
    "def square(x):\n",
    "    return x*x\n",
    "\n",
    "print(square(8)) # returns square of 8 i.e., 64\n",
    "\n",
    "print(square) # returns hexadecimal number i.e., reference of the function\n",
    "\n",
    "g = square\n",
    "\n",
    "print(g) # returns hexadecimal number i.e., reference of square\n",
    "\n",
    "print(g(13))"
   ]
  },
  {
   "cell_type": "code",
   "execution_count": null,
   "id": "c556577a",
   "metadata": {},
   "outputs": [],
   "source": []
  }
 ],
 "metadata": {
  "kernelspec": {
   "display_name": "Python 3 (ipykernel)",
   "language": "python",
   "name": "python3"
  },
  "language_info": {
   "codemirror_mode": {
    "name": "ipython",
    "version": 3
   },
   "file_extension": ".py",
   "mimetype": "text/x-python",
   "name": "python",
   "nbconvert_exporter": "python",
   "pygments_lexer": "ipython3",
   "version": "3.7.3"
  }
 },
 "nbformat": 4,
 "nbformat_minor": 5
}
