{
 "cells": [
  {
   "cell_type": "code",
   "execution_count": 1,
   "id": "24bc2863",
   "metadata": {},
   "outputs": [
    {
     "name": "stdout",
     "output_type": "stream",
     "text": [
      "this is example\n",
      "this line containe hello\n",
      "pattern hello to be matched\n"
     ]
    }
   ],
   "source": [
    "# co-routine = using 'yield' keyword as a consumer\n",
    "\n",
    "def example(pattern):\n",
    "    print(\"this is example\")\n",
    "    while True:\n",
    "        value = (yield)\n",
    "        if pattern in value:\n",
    "            print(value)\n",
    "            \n",
    "cor = example('hello') # initialise co-routine\n",
    "next(cor) # start the co-routine\n",
    "cor.send(\"this is my first line\")\n",
    "cor.send(\"this line containe hello\")\n",
    "cor.send(\"pattern hello to be matched\")\n",
    "cor.send(\"last line fo co-routine\")\n",
    "cor.close()"
   ]
  },
  {
   "cell_type": "code",
   "execution_count": null,
   "id": "184fb8e9",
   "metadata": {},
   "outputs": [],
   "source": []
  }
 ],
 "metadata": {
  "kernelspec": {
   "display_name": "Python 3 (ipykernel)",
   "language": "python",
   "name": "python3"
  },
  "language_info": {
   "codemirror_mode": {
    "name": "ipython",
    "version": 3
   },
   "file_extension": ".py",
   "mimetype": "text/x-python",
   "name": "python",
   "nbconvert_exporter": "python",
   "pygments_lexer": "ipython3",
   "version": "3.7.3"
  }
 },
 "nbformat": 4,
 "nbformat_minor": 5
}
