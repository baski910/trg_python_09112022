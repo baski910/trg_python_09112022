{
 "cells": [
  {
   "cell_type": "code",
   "execution_count": 3,
   "id": "2b79bacf",
   "metadata": {},
   "outputs": [
    {
     "name": "stdout",
     "output_type": "stream",
     "text": [
      "welcome bob to python\n",
      "<s>welcome bob to python</s>\n"
     ]
    }
   ],
   "source": [
    "\"\"\"Example for decorator\"\"\"\n",
    "def display(name):\n",
    "    return \"welcome {} to python\".format(name)\n",
    "\n",
    "print(display('bob')) # produces an output - welcome bob to python\n",
    "# to improve the output of the above function something like below\n",
    "# <s>welcome bob to python</s>\n",
    "\n",
    "# code for decorator\n",
    "# in the function s_decorator the argument 'd' is considered as reference of function to be improved\n",
    "# and the argument passed to inner_wrapper should be same as that of argument passed to function to be improved\n",
    "def s_decorator(d):\n",
    "    def inner_wrapper(name):\n",
    "        return \"<s>{}</s>\".format(d(name))\n",
    "    return inner_wrapper\n",
    "\n",
    "# call s_decorator to get improved output\n",
    "#mydisplay = s_decorator(display)\n",
    "display = s_decorator(display)\n",
    "print(display('bob'))"
   ]
  },
  {
   "cell_type": "code",
   "execution_count": null,
   "id": "fe4ac71b",
   "metadata": {},
   "outputs": [],
   "source": []
  }
 ],
 "metadata": {
  "kernelspec": {
   "display_name": "Python 3 (ipykernel)",
   "language": "python",
   "name": "python3"
  },
  "language_info": {
   "codemirror_mode": {
    "name": "ipython",
    "version": 3
   },
   "file_extension": ".py",
   "mimetype": "text/x-python",
   "name": "python",
   "nbconvert_exporter": "python",
   "pygments_lexer": "ipython3",
   "version": "3.7.3"
  }
 },
 "nbformat": 4,
 "nbformat_minor": 5
}
