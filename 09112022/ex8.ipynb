{
 "cells": [
  {
   "cell_type": "code",
   "execution_count": 1,
   "id": "f45a5dde",
   "metadata": {},
   "outputs": [
    {
     "name": "stdout",
     "output_type": "stream",
     "text": [
      "110\n"
     ]
    }
   ],
   "source": [
    "\"\"\"Example for nested function\"\"\"\n",
    "def f(x):\n",
    "    def g(y):\n",
    "        return y*y\n",
    "    return x+g(x)\n",
    "\n",
    "# calling the nested function\n",
    "retval = f(10) \n",
    "print(retval) # output will be 110"
   ]
  },
  {
   "cell_type": "code",
   "execution_count": 3,
   "id": "dce20469",
   "metadata": {},
   "outputs": [
    {
     "name": "stdout",
     "output_type": "stream",
     "text": [
      "<function f.<locals>.g at 0x7f798476f620>\n",
      "100\n"
     ]
    }
   ],
   "source": [
    "\"\"\"Example for closure\"\"\"\n",
    "def f(x):\n",
    "    def g():\n",
    "        return x*x\n",
    "    return g\n",
    "\n",
    "# The return value of f is reference of inner function 'g'\n",
    "retval = f(10)\n",
    "\n",
    "print(retval)\n",
    "\n",
    "print(retval())"
   ]
  },
  {
   "cell_type": "code",
   "execution_count": null,
   "id": "685016b2",
   "metadata": {},
   "outputs": [],
   "source": []
  }
 ],
 "metadata": {
  "kernelspec": {
   "display_name": "Python 3 (ipykernel)",
   "language": "python",
   "name": "python3"
  },
  "language_info": {
   "codemirror_mode": {
    "name": "ipython",
    "version": 3
   },
   "file_extension": ".py",
   "mimetype": "text/x-python",
   "name": "python",
   "nbconvert_exporter": "python",
   "pygments_lexer": "ipython3",
   "version": "3.7.3"
  }
 },
 "nbformat": 4,
 "nbformat_minor": 5
}
